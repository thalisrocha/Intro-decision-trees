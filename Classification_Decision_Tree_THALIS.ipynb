{
  "cells": [
    {
      "cell_type": "markdown",
      "metadata": {
        "id": "view-in-github",
        "colab_type": "text"
      },
      "source": [
        "<a href=\"https://colab.research.google.com/github/thalisrocha/Intro-decision-trees/blob/main/Classification_Decision_Tree_THALIS.ipynb\" target=\"_parent\"><img src=\"https://colab.research.google.com/assets/colab-badge.svg\" alt=\"Open In Colab\"/></a>"
      ]
    },
    {
      "cell_type": "markdown",
      "metadata": {
        "tags": [],
        "id": "S8fOUGTvOu1q"
      },
      "source": [
        "# Lab session: classification\n",
        "\n",
        "The goal of this lab session is for you to get a good grasp of data cleaning, clustering, classification implementations and evaluations. For this reason, the lab is less focused on re-implementing existing algorithms, and more onto using what is already available and making sense of it. We have tried to write as much of the code that requires prior knowledge of the librairies, so that you can focus on exploration and data mining itself.\n",
        "\n",
        "Here are some handy links for reference:\n",
        "\n",
        "* [Lecture slides: data exploration and cleaning](https://ecampus.paris-saclay.fr/course/view.php?id=30869#section-0)\n",
        "* [Lecture slides: classification](https://ecampus.paris-saclay.fr/course/view.php?id=30869#section-1)\n",
        "* [pandas documentation](https://pandas.pydata.org/docs/index.html)\n",
        "* [scikit-learn documentation](https://scikit-learn.org/stable/index.html)\n",
        "\n",
        "As a general tip, in Jupyter notebooks you can suffix a function with \"?\" to get its documentation, and with \"??\" to get its source code. This is immensely useful to check input variables, parameters, etc.\n",
        "\n",
        "```python\n",
        "\n",
        ">>> max?\n",
        "Docstring:\n",
        "max(iterable, *[, default=obj, key=func]) -> value\n",
        "max(arg1, arg2, *args, *[, key=func]) -> value\n",
        "\n",
        "With a single iterable argument, return its biggest item. The\n",
        "default keyword-only argument specifies an object to return if\n",
        "the provided iterable is empty.\n",
        "With two or more arguments, return the largest argument.\n",
        "Type:      builtin_function_or_method\n",
        "\n",
        "```"
      ]
    },
    {
      "cell_type": "code",
      "execution_count": null,
      "metadata": {
        "id": "zZv_rpsJOu1s",
        "outputId": "4f4a1b3c-b6f2-4c75-bfd0-4c910ed71b6a"
      },
      "outputs": [
        {
          "data": {
            "text/plain": [
              "\u001b[1;31mDocstring:\u001b[0m\n",
              "max(iterable, *[, default=obj, key=func]) -> value\n",
              "max(arg1, arg2, *args, *[, key=func]) -> value\n",
              "\n",
              "With a single iterable argument, return its biggest item. The\n",
              "default keyword-only argument specifies an object to return if\n",
              "the provided iterable is empty.\n",
              "With two or more arguments, return the largest argument.\n",
              "\u001b[1;31mType:\u001b[0m      builtin_function_or_method\n"
            ]
          },
          "metadata": {},
          "output_type": "display_data"
        }
      ],
      "source": [
        "max?"
      ]
    },
    {
      "cell_type": "markdown",
      "metadata": {
        "id": "0NGgthA1Ou1t"
      },
      "source": [
        "Let us make our imports and get started."
      ]
    },
    {
      "cell_type": "code",
      "execution_count": null,
      "metadata": {
        "id": "5tB5HYXhOu1t"
      },
      "outputs": [],
      "source": [
        "import sklearn as sk\n",
        "import numpy as np\n",
        "from sklearn import cluster\n",
        "from sklearn.preprocessing import LabelEncoder\n",
        "from sklearn.neighbors import KNeighborsClassifier\n",
        "import pandas as pd\n",
        "import seaborn as sn\n",
        "import matplotlib.pyplot as plt"
      ]
    },
    {
      "cell_type": "code",
      "execution_count": null,
      "metadata": {
        "id": "rURXw8CXOu1u"
      },
      "outputs": [],
      "source": [
        "%matplotlib inline"
      ]
    },
    {
      "cell_type": "markdown",
      "metadata": {
        "id": "0jlkZIt6Ou1u"
      },
      "source": [
        "## The Palmer Penguin dataset\n",
        "\n",
        "Let us look at the [Palmer penguins]() dataset. It is a small dataset that contains measurements about real-world penguins. The files `penguins_lter.csv` and `penguins_size.csv` contain different attributes. We will start using only one of them.\n",
        "\n",
        "Our task is to:\n",
        "\n",
        "   - Do an exploratory analysis of the data\n",
        "   - Think about what algorithms and features we want to use, and how we need to transform our variables\n",
        "   - Run our algorithms and evaluate them"
      ]
    },
    {
      "cell_type": "code",
      "execution_count": null,
      "metadata": {
        "id": "hHyU6cwEOu1u"
      },
      "outputs": [],
      "source": [
        "#penguins_cs = pd.read_csv(open(\"data/penguins_size.csv\"))\n",
        "penguins_cs = pd.read_csv(open(\"penguins_size.csv\"))"
      ]
    },
    {
      "cell_type": "markdown",
      "metadata": {
        "tags": [],
        "id": "IaWsIRw5Ou1u"
      },
      "source": [
        "### Exploratory analysis\n",
        "\n",
        "The goal of this first section is to get an idea of how the data is structured and distributed. We should keep in mind the things we have see during the lecture:\n",
        "\n",
        "* Are the different attributes distributed in very different spans of values? Will it be a problem for the models we wish to use?\n",
        "* How do we want to address different spans (if relevant?)\n",
        "* Which attributes are numeric/categorical/etc.?\n",
        "* Do we have \"Non assigned\" values? What should we do with them?\n",
        "\n",
        "_Tip: It would be a good idea to make different copies of your original data (for example using the `data.copy()` function), in order to compare different strategies: normalising versus not normalising, normalisation versus standardisation etc._\n"
      ]
    },
    {
      "cell_type": "code",
      "execution_count": null,
      "metadata": {
        "id": "6IzaUND1Ou1u",
        "outputId": "59506443-b181-48fd-904d-995254a14109"
      },
      "outputs": [
        {
          "data": {
            "text/html": [
              "<div>\n",
              "<style scoped>\n",
              "    .dataframe tbody tr th:only-of-type {\n",
              "        vertical-align: middle;\n",
              "    }\n",
              "\n",
              "    .dataframe tbody tr th {\n",
              "        vertical-align: top;\n",
              "    }\n",
              "\n",
              "    .dataframe thead th {\n",
              "        text-align: right;\n",
              "    }\n",
              "</style>\n",
              "<table border=\"1\" class=\"dataframe\">\n",
              "  <thead>\n",
              "    <tr style=\"text-align: right;\">\n",
              "      <th></th>\n",
              "      <th>culmen_length_mm</th>\n",
              "      <th>culmen_depth_mm</th>\n",
              "      <th>flipper_length_mm</th>\n",
              "      <th>body_mass_g</th>\n",
              "    </tr>\n",
              "  </thead>\n",
              "  <tbody>\n",
              "    <tr>\n",
              "      <th>count</th>\n",
              "      <td>342.000000</td>\n",
              "      <td>342.000000</td>\n",
              "      <td>342.000000</td>\n",
              "      <td>342.000000</td>\n",
              "    </tr>\n",
              "    <tr>\n",
              "      <th>mean</th>\n",
              "      <td>43.921930</td>\n",
              "      <td>17.151170</td>\n",
              "      <td>200.915205</td>\n",
              "      <td>4201.754386</td>\n",
              "    </tr>\n",
              "    <tr>\n",
              "      <th>std</th>\n",
              "      <td>5.459584</td>\n",
              "      <td>1.974793</td>\n",
              "      <td>14.061714</td>\n",
              "      <td>801.954536</td>\n",
              "    </tr>\n",
              "    <tr>\n",
              "      <th>min</th>\n",
              "      <td>32.100000</td>\n",
              "      <td>13.100000</td>\n",
              "      <td>172.000000</td>\n",
              "      <td>2700.000000</td>\n",
              "    </tr>\n",
              "    <tr>\n",
              "      <th>25%</th>\n",
              "      <td>39.225000</td>\n",
              "      <td>15.600000</td>\n",
              "      <td>190.000000</td>\n",
              "      <td>3550.000000</td>\n",
              "    </tr>\n",
              "    <tr>\n",
              "      <th>50%</th>\n",
              "      <td>44.450000</td>\n",
              "      <td>17.300000</td>\n",
              "      <td>197.000000</td>\n",
              "      <td>4050.000000</td>\n",
              "    </tr>\n",
              "    <tr>\n",
              "      <th>75%</th>\n",
              "      <td>48.500000</td>\n",
              "      <td>18.700000</td>\n",
              "      <td>213.000000</td>\n",
              "      <td>4750.000000</td>\n",
              "    </tr>\n",
              "    <tr>\n",
              "      <th>max</th>\n",
              "      <td>59.600000</td>\n",
              "      <td>21.500000</td>\n",
              "      <td>231.000000</td>\n",
              "      <td>6300.000000</td>\n",
              "    </tr>\n",
              "  </tbody>\n",
              "</table>\n",
              "</div>"
            ],
            "text/plain": [
              "       culmen_length_mm  culmen_depth_mm  flipper_length_mm  body_mass_g\n",
              "count        342.000000       342.000000         342.000000   342.000000\n",
              "mean          43.921930        17.151170         200.915205  4201.754386\n",
              "std            5.459584         1.974793          14.061714   801.954536\n",
              "min           32.100000        13.100000         172.000000  2700.000000\n",
              "25%           39.225000        15.600000         190.000000  3550.000000\n",
              "50%           44.450000        17.300000         197.000000  4050.000000\n",
              "75%           48.500000        18.700000         213.000000  4750.000000\n",
              "max           59.600000        21.500000         231.000000  6300.000000"
            ]
          },
          "execution_count": 6,
          "metadata": {},
          "output_type": "execute_result"
        }
      ],
      "source": [
        "penguins_cs.describe()"
      ]
    },
    {
      "cell_type": "code",
      "execution_count": null,
      "metadata": {
        "id": "0e2bPzOkOu1v",
        "outputId": "d7c620e3-7861-4ba8-b9e1-884154d7b8e3",
        "colab": {
          "base_uri": "https://localhost:8080/",
          "height": 81
        }
      },
      "outputs": [
        {
          "output_type": "execute_result",
          "data": {
            "text/plain": [
              "  species     island  culmen_length_mm  culmen_depth_mm  flipper_length_mm  \\\n",
              "0  Adelie  Torgersen              39.1             18.7              181.0   \n",
              "\n",
              "   body_mass_g   sex  \n",
              "0       3750.0  MALE  "
            ],
            "text/html": [
              "\n",
              "  <div id=\"df-6dcd2340-da88-4b64-8009-c0c507c187a5\">\n",
              "    <div class=\"colab-df-container\">\n",
              "      <div>\n",
              "<style scoped>\n",
              "    .dataframe tbody tr th:only-of-type {\n",
              "        vertical-align: middle;\n",
              "    }\n",
              "\n",
              "    .dataframe tbody tr th {\n",
              "        vertical-align: top;\n",
              "    }\n",
              "\n",
              "    .dataframe thead th {\n",
              "        text-align: right;\n",
              "    }\n",
              "</style>\n",
              "<table border=\"1\" class=\"dataframe\">\n",
              "  <thead>\n",
              "    <tr style=\"text-align: right;\">\n",
              "      <th></th>\n",
              "      <th>species</th>\n",
              "      <th>island</th>\n",
              "      <th>culmen_length_mm</th>\n",
              "      <th>culmen_depth_mm</th>\n",
              "      <th>flipper_length_mm</th>\n",
              "      <th>body_mass_g</th>\n",
              "      <th>sex</th>\n",
              "    </tr>\n",
              "  </thead>\n",
              "  <tbody>\n",
              "    <tr>\n",
              "      <th>0</th>\n",
              "      <td>Adelie</td>\n",
              "      <td>Torgersen</td>\n",
              "      <td>39.1</td>\n",
              "      <td>18.7</td>\n",
              "      <td>181.0</td>\n",
              "      <td>3750.0</td>\n",
              "      <td>MALE</td>\n",
              "    </tr>\n",
              "  </tbody>\n",
              "</table>\n",
              "</div>\n",
              "      <button class=\"colab-df-convert\" onclick=\"convertToInteractive('df-6dcd2340-da88-4b64-8009-c0c507c187a5')\"\n",
              "              title=\"Convert this dataframe to an interactive table.\"\n",
              "              style=\"display:none;\">\n",
              "        \n",
              "  <svg xmlns=\"http://www.w3.org/2000/svg\" height=\"24px\"viewBox=\"0 0 24 24\"\n",
              "       width=\"24px\">\n",
              "    <path d=\"M0 0h24v24H0V0z\" fill=\"none\"/>\n",
              "    <path d=\"M18.56 5.44l.94 2.06.94-2.06 2.06-.94-2.06-.94-.94-2.06-.94 2.06-2.06.94zm-11 1L8.5 8.5l.94-2.06 2.06-.94-2.06-.94L8.5 2.5l-.94 2.06-2.06.94zm10 10l.94 2.06.94-2.06 2.06-.94-2.06-.94-.94-2.06-.94 2.06-2.06.94z\"/><path d=\"M17.41 7.96l-1.37-1.37c-.4-.4-.92-.59-1.43-.59-.52 0-1.04.2-1.43.59L10.3 9.45l-7.72 7.72c-.78.78-.78 2.05 0 2.83L4 21.41c.39.39.9.59 1.41.59.51 0 1.02-.2 1.41-.59l7.78-7.78 2.81-2.81c.8-.78.8-2.07 0-2.86zM5.41 20L4 18.59l7.72-7.72 1.47 1.35L5.41 20z\"/>\n",
              "  </svg>\n",
              "      </button>\n",
              "      \n",
              "  <style>\n",
              "    .colab-df-container {\n",
              "      display:flex;\n",
              "      flex-wrap:wrap;\n",
              "      gap: 12px;\n",
              "    }\n",
              "\n",
              "    .colab-df-convert {\n",
              "      background-color: #E8F0FE;\n",
              "      border: none;\n",
              "      border-radius: 50%;\n",
              "      cursor: pointer;\n",
              "      display: none;\n",
              "      fill: #1967D2;\n",
              "      height: 32px;\n",
              "      padding: 0 0 0 0;\n",
              "      width: 32px;\n",
              "    }\n",
              "\n",
              "    .colab-df-convert:hover {\n",
              "      background-color: #E2EBFA;\n",
              "      box-shadow: 0px 1px 2px rgba(60, 64, 67, 0.3), 0px 1px 3px 1px rgba(60, 64, 67, 0.15);\n",
              "      fill: #174EA6;\n",
              "    }\n",
              "\n",
              "    [theme=dark] .colab-df-convert {\n",
              "      background-color: #3B4455;\n",
              "      fill: #D2E3FC;\n",
              "    }\n",
              "\n",
              "    [theme=dark] .colab-df-convert:hover {\n",
              "      background-color: #434B5C;\n",
              "      box-shadow: 0px 1px 3px 1px rgba(0, 0, 0, 0.15);\n",
              "      filter: drop-shadow(0px 1px 2px rgba(0, 0, 0, 0.3));\n",
              "      fill: #FFFFFF;\n",
              "    }\n",
              "  </style>\n",
              "\n",
              "      <script>\n",
              "        const buttonEl =\n",
              "          document.querySelector('#df-6dcd2340-da88-4b64-8009-c0c507c187a5 button.colab-df-convert');\n",
              "        buttonEl.style.display =\n",
              "          google.colab.kernel.accessAllowed ? 'block' : 'none';\n",
              "\n",
              "        async function convertToInteractive(key) {\n",
              "          const element = document.querySelector('#df-6dcd2340-da88-4b64-8009-c0c507c187a5');\n",
              "          const dataTable =\n",
              "            await google.colab.kernel.invokeFunction('convertToInteractive',\n",
              "                                                     [key], {});\n",
              "          if (!dataTable) return;\n",
              "\n",
              "          const docLinkHtml = 'Like what you see? Visit the ' +\n",
              "            '<a target=\"_blank\" href=https://colab.research.google.com/notebooks/data_table.ipynb>data table notebook</a>'\n",
              "            + ' to learn more about interactive tables.';\n",
              "          element.innerHTML = '';\n",
              "          dataTable['output_type'] = 'display_data';\n",
              "          await google.colab.output.renderOutput(dataTable, element);\n",
              "          const docLink = document.createElement('div');\n",
              "          docLink.innerHTML = docLinkHtml;\n",
              "          element.appendChild(docLink);\n",
              "        }\n",
              "      </script>\n",
              "    </div>\n",
              "  </div>\n",
              "  "
            ]
          },
          "metadata": {},
          "execution_count": 25
        }
      ],
      "source": [
        "penguins_cs.columns\n",
        "penguins_cs.head(1)"
      ]
    },
    {
      "cell_type": "markdown",
      "metadata": {
        "id": "mho6s9oBOu1v"
      },
      "source": [
        "Plot two attributes against each other, two see how correlated they are. Explore the different variables and their distributions, to get an idea of how the data is distributed and which attributes are relevant.\n",
        "\n",
        "_Tip: Given two lists `x` and `y`, you can make a scatter plot with `plt.plot(x, y, 'o')`. You can use `data[\"attribute\"].hist()` to get the attribute's distribution._"
      ]
    },
    {
      "cell_type": "code",
      "execution_count": null,
      "metadata": {
        "id": "bbvPhN7UOu1v",
        "outputId": "c68687c2-69cd-4bf6-822e-dd68769a2565"
      },
      "outputs": [
        {
          "data": {
            "image/png": "[encoded data removed]",
            "text/plain": [
              "<Figure size 432x288 with 1 Axes>"
            ]
          },
          "metadata": {
            "needs_background": "light"
          },
          "output_type": "display_data"
        }
      ],
      "source": [
        "plt.plot(penguins_cs[\"culmen_depth_mm\"], penguins_cs[\"culmen_length_mm\"], 'o');"
      ]
    },
    {
      "cell_type": "code",
      "execution_count": null,
      "metadata": {
        "id": "BPtxrTqVOu1w",
        "outputId": "db17848e-c330-4bcf-fe5d-cb9890ad0a82"
      },
      "outputs": [
        {
          "data": {
            "image/png": "[encoded data removed]",
            "text/plain": [
              "<Figure size 432x288 with 1 Axes>"
            ]
          },
          "metadata": {
            "needs_background": "light"
          },
          "output_type": "display_data"
        }
      ],
      "source": [
        "penguins_cs['culmen_length_mm'].hist();"
      ]
    },
    {
      "cell_type": "markdown",
      "metadata": {
        "id": "Ww_dNcJPOu1w"
      },
      "source": [
        "Now let us handle missing values. Should we treat all missing values the same way? What fraction of the data would we remove, if we were to drop all the lines  that have at least one missing value?\n",
        "\n",
        "_Tip: look into the [`data.dropna()`](https://pandas.pydata.org/pandas-docs/stable/reference/api/pandas.DataFrame.dropna.html) function provided by pandas. In particular, notice that using the `how` and `thres` arguments, you can have a fine-grained treatment of missing values, for example removing rows that have more than 50% missing columns, but filling the values yourself otherwise._"
      ]
    },
    {
      "cell_type": "code",
      "execution_count": null,
      "metadata": {
        "id": "sBfEH-lFOu1w"
      },
      "outputs": [],
      "source": [
        "penguins_cs = penguins_cs.dropna()"
      ]
    },
    {
      "cell_type": "markdown",
      "metadata": {
        "id": "dak9kGv0Ou1w"
      },
      "source": [
        "**Quick check:** did you make sure the penguins' sex attribute was clean, and had coherent values as well as non-NaN values?"
      ]
    },
    {
      "cell_type": "code",
      "execution_count": null,
      "metadata": {
        "id": "edTr8v4jOu1w",
        "colab": {
          "base_uri": "https://localhost:8080/"
        },
        "outputId": "795596d0-6884-4140-d892-8823776c0059"
      },
      "outputs": [
        {
          "output_type": "stream",
          "name": "stdout",
          "text": [
            "species              Gentoo\n",
            "island               Biscoe\n",
            "culmen_length_mm       48.8\n",
            "culmen_depth_mm        16.2\n",
            "flipper_length_mm     222.0\n",
            "body_mass_g          6000.0\n",
            "sex                    MALE\n",
            "Name: 337, dtype: object\n",
            "336\n"
          ]
        }
      ],
      "source": [
        "i=0\n",
        "for aux in penguins_cs['sex']:\n",
        "  i+=1\n",
        "  if aux != 'MALE' and aux != 'FEMALE':\n",
        "    print(penguins_cs.iloc[i])\n",
        "    print(penguins_cs.iloc[i].name-1)\n",
        "    penguins_cs.drop(index=penguins_cs.iloc[i].name-1, axis=1, inplace = True)\n",
        "\n",
        "\n",
        "# for aux in penguins_cs['sex']:\n",
        "#   if not aux in ('MALE','FEMALE'):\n",
        "#     print(aux)\n",
        "#     penguins_cs.drop"
      ]
    },
    {
      "cell_type": "markdown",
      "metadata": {
        "id": "fyNg0bgfOu1w"
      },
      "source": [
        "Let us write code to normalize and standardize our attributes, if we wish to do so. Each function takes as input a `Series` (i.e. a column from the dataframe), and returns a new, modified `Series`.\n",
        "\n",
        "_Tip: functions can be applied pointwise to `DataFrames` and `Series`, without the need for an explicit `for` loop._"
      ]
    },
    {
      "cell_type": "code",
      "source": [
        "penguins_cs.min()\n"
      ],
      "metadata": {
        "colab": {
          "base_uri": "https://localhost:8080/"
        },
        "id": "NLcpccjVglLg",
        "outputId": "9e47768e-8f14-4e09-a33e-7133b661659a"
      },
      "execution_count": null,
      "outputs": [
        {
          "output_type": "execute_result",
          "data": {
            "text/plain": [
              "species              Adelie\n",
              "island               Biscoe\n",
              "culmen_length_mm       32.1\n",
              "culmen_depth_mm        13.1\n",
              "flipper_length_mm     172.0\n",
              "body_mass_g          2700.0\n",
              "sex                  FEMALE\n",
              "dtype: object"
            ]
          },
          "metadata": {},
          "execution_count": 104
        }
      ]
    },
    {
      "cell_type": "code",
      "execution_count": null,
      "metadata": {
        "id": "rjf9kjvEOu1w"
      },
      "outputs": [],
      "source": [
        "def normalize(data: pd.Series):\n",
        "    # Write code here\n",
        "\n",
        "    norm_data = (data - data.min())/(data.max()-data.min())\n",
        "\n",
        "    return norm_data\n",
        "\n",
        "def standardize(data: pd.Series):\n",
        "    # Write code here\n",
        "\n",
        "    stand_data = (data -data.min())/data.std()\n",
        "\n",
        "    return stand_data"
      ]
    },
    {
      "cell_type": "code",
      "source": [
        "plt.plot(penguins_cs[\"culmen_depth_mm\"], penguins_cs[\"culmen_length_mm\"], 'o');\n",
        "norm_data = normalize(penguins_cs[\"culmen_length_mm\"])\n",
        "stand_data = standardize(penguins_cs[\"culmen_length_mm\"])\n",
        "\n",
        "norm_data.describe()\n",
        "norm_data.head(10)\n",
        "\n",
        "# plt.plot(norm_data[\"culmen_depth_mm\"], norm_data[\"culmen_length_mm\"], 'o');\n",
        "# plt.plot(stand_data[\"culmen_depth_mm\"], stand_data[\"culmen_length_mm\"], 'o');"
      ],
      "metadata": {
        "colab": {
          "base_uri": "https://localhost:8080/",
          "height": 456
        },
        "id": "ZIQDA3Mgqwed",
        "outputId": "60baa08b-951a-4e6d-a328-0f058e01f883"
      },
      "execution_count": null,
      "outputs": [
        {
          "output_type": "execute_result",
          "data": {
            "text/plain": [
              "0    0.254545\n",
              "1    0.269091\n",
              "2    0.298182\n",
              "3         NaN\n",
              "4    0.167273\n",
              "5    0.261818\n",
              "6    0.247273\n",
              "7    0.258182\n",
              "8    0.072727\n",
              "9    0.360000\n",
              "Name: culmen_length_mm, dtype: float64"
            ]
          },
          "metadata": {},
          "execution_count": 126
        },
        {
          "output_type": "display_data",
          "data": {
            "text/plain": [
              "<Figure size 432x288 with 1 Axes>"
            ],
            "image/png": "[encoded data removed]"
          },
          "metadata": {
            "needs_background": "light"
          }
        }
      ]
    },
    {
      "cell_type": "markdown",
      "metadata": {
        "id": "4gptMXjwOu1x"
      },
      "source": [
        "_Tip: you can apply a function easily to a whole Series or DataFrame, using `pd.apply()`_\n",
        "\n",
        "We finally provide you with a modified version of the dataframe, that contains only numerical values. You might not necessarily need it."
      ]
    },
    {
      "cell_type": "code",
      "execution_count": null,
      "metadata": {
        "id": "XnrdoiEXOu1x",
        "colab": {
          "base_uri": "https://localhost:8080/",
          "height": 337
        },
        "outputId": "43de9ab7-3f16-4795-efd2-f155253ce8a6"
      },
      "outputs": [
        {
          "output_type": "execute_result",
          "data": {
            "text/plain": [
              "Text(0.5, 1.0, '')"
            ]
          },
          "metadata": {},
          "execution_count": 142
        },
        {
          "output_type": "display_data",
          "data": {
            "text/plain": [
              "<Figure size 1440x360 with 3 Axes>"
            ],
            "image/png": "[encoded data removed]"
          },
          "metadata": {
            "needs_background": "light"
          }
        }
      ],
      "source": [
        "penguins_num = penguins_cs[['culmen_length_mm', 'culmen_depth_mm',\n",
        "       'flipper_length_mm', 'body_mass_g']]\n",
        "\n",
        "penguins_num = penguins_num.fillna(0)\n",
        "\n",
        "# plt.plot(penguins_cs[\"culmen_depth_mm\"], penguins_cs[\"culmen_length_mm\"], 'o');\n",
        "# norm_data = normalize(penguins_cs[\"culmen_length_mm\"])\n",
        "norm_data = normalize(penguins_num)\n",
        "stand_data = standardize(penguins_num)\n",
        "\n",
        "fig, axs = plt.subplots(nrows=1, ncols=3, figsize=(20, 5))\n",
        "axs[0].plot(penguins_cs[\"culmen_depth_mm\"], norm_data[\"culmen_length_mm\"], 'o')\n",
        "axs[1].plot(norm_data[\"culmen_depth_mm\"], norm_data[\"culmen_length_mm\"], 'o')\n",
        "axs[2].plot(stand_data[\"culmen_depth_mm\"], norm_data[\"culmen_length_mm\"], 'o')\n",
        "axs[0].set_title('')\n",
        "axs[1].set_title('')\n",
        "axs[2].set_title('')\n",
        "\n",
        "# plt.plot(norm_data[\"culmen_depth_mm\"], norm_data[\"culmen_length_mm\"], 'o');\n",
        "# plt.plot(stand_data[\"culmen_depth_mm\"], stand_data[\"culmen_length_mm\"], 'o');"
      ]
    },
    {
      "cell_type": "markdown",
      "metadata": {
        "tags": [],
        "id": "uIR8HXgeOu1x"
      },
      "source": [
        "## Classification\n",
        "\n",
        "While we have not seen any classification algorithms in class yet, let us try to classify (instead of cluster) our data. The code for the classification algorithm is already completely written out for you, so you can focus on the other tasks.\n",
        "\n",
        "Start by choosing what you want to classify on (for example, the species). You can use the exploratory data analysis you did before to guide your choice."
      ]
    },
    {
      "cell_type": "markdown",
      "metadata": {
        "id": "VQ_1PvQ7Ou1x"
      },
      "source": [
        "### Preparation"
      ]
    },
    {
      "cell_type": "markdown",
      "metadata": {
        "id": "VzsGlANBOu1x"
      },
      "source": [
        "First, write down a function that will split your data into train and test datasets. Since we are in a controlled environment, we will not use an extra validation dataset, in order to make the most of the data we have. The header of the function is written out for you: `data` is the DataFrame you want to split into train and test, `target_key` is the attribute you wish to predict (for example, the species); the `percent_test` tells you the fraction of the data that should be used for testing, and defaults at 15%.\n",
        "\n",
        "The function returns 4 objects: `X_train` contains the features for learning on the train dataset, and `y_train` is the target attribute. Likewise for `X_test` and `y_test`.\n",
        "\n",
        "_Tip: to slice a dataframe like you would with a Python list, you can use the [.iloc]() function as follows: `data.iloc[row_slice, col_slice]`_\n",
        "\n",
        "_Tip: to shuffle a dataframe, you can use `df = df.sample(frac=1)`_\n",
        "\n",
        "_Tip: to remove a column from a dataframe, you can use `dr.drop(col_name, axis=1)`_"
      ]
    },
    {
      "cell_type": "code",
      "execution_count": null,
      "metadata": {
        "id": "6sNhKlymOu1x"
      },
      "outputs": [],
      "source": [
        "def train_test_split(data: pd.DataFrame, target_key:str, percent_test: int =15):\n",
        "    # Write code here\n",
        "\n",
        "    data = data.sample(frac=1)\n",
        "\n",
        "    data = data.iloc[0:int(data.shape[0]*(1-percent_test/100)), 0:data.shape[1]]\n",
        "    X_train = data.drop(target_key, axis=1)\n",
        "    y_train = data[target_key]\n",
        "\n",
        "    data = data.iloc[int(data.shape[0]*(1-percent_test/100)):data.shape[0], 0:data.shape[1]]\n",
        "    X_test = data.drop(target_key, axis=1)\n",
        "    y_test = data[target_key]\n",
        "\n",
        "    return X_train, y_train, X_test, y_test\n",
        "\n",
        "data = penguins_cs.copy()\n",
        "data[\"species\"] = LabelEncoder().fit_transform(data[\"species\"])\n",
        "data[\"island\"] = LabelEncoder().fit_transform(data[\"island\"])\n",
        "data[\"sex\"] = LabelEncoder().fit_transform(data[\"sex\"])\n",
        "\n",
        "X_train, y_train, X_test, y_test = train_test_split(data, target_key=\"sex\", percent_test=15)"
      ]
    },
    {
      "cell_type": "markdown",
      "metadata": {
        "id": "48wAZTMjOu1x"
      },
      "source": [
        "The few lines below can help you check that you train and test sets have the same dimension, and that the test set roughly corresponds to the `percent_test` that we provided."
      ]
    },
    {
      "cell_type": "code",
      "execution_count": null,
      "metadata": {
        "id": "qiesukWtOu1y",
        "outputId": "f40c6b5a-4cb7-4716-ecd4-e02e7c2e9579",
        "colab": {
          "base_uri": "https://localhost:8080/"
        }
      },
      "outputs": [
        {
          "output_type": "stream",
          "name": "stdout",
          "text": [
            "y_train and X_train have the same length (292, 292): True\n",
            "y_test and X_test have the same length (44, 44): True\n",
            "Percentage of the dataset used for test: 13.1 %\n"
          ]
        }
      ],
      "source": [
        "print(f\"y_train and X_train have the same length ({len(y_train)}, {len(X_train)}): {len(y_train) == len(X_train)}\")\n",
        "print(f\"y_test and X_test have the same length ({len(y_test)}, {len(X_test)}): {len(y_test) == len(X_test)}\")\n",
        "print(f\"Percentage of the dataset used for test: {round(len(y_test)/(len(y_test)+len(y_train))*100, 2)} %\")"
      ]
    },
    {
      "cell_type": "markdown",
      "metadata": {
        "id": "VGHjeo5_Ou1y"
      },
      "source": [
        "Check that your train and test set are appropriate. For example, is the repartition of the target variable similar? If not, how could you correct this issue?"
      ]
    },
    {
      "cell_type": "markdown",
      "metadata": {
        "id": "RToA9rAaOu1y"
      },
      "source": [
        "## Simple models\n",
        "\n",
        "Majority vote and $k$-nearest neighbours."
      ]
    },
    {
      "cell_type": "code",
      "execution_count": null,
      "metadata": {
        "id": "NUWcDf_mOu1y"
      },
      "outputs": [],
      "source": [
        "class MajorityClassifier():\n",
        "    def __init__(self):\n",
        "        self.majorityClass = None\n",
        "\n",
        "    def fit(self, X, y):\n",
        "        # Write code that will find the majority class in\n",
        "        # X, y and will set the class attribute accordingly\n",
        "        # Tip: you do not need X in this case\n",
        "\n",
        "\n",
        "        return # This function does not need to return anything\n",
        "\n",
        "    def predict(self, X):\n",
        "        preds = []\n",
        "\n",
        "        try:\n",
        "            if self.majorityClass is None:\n",
        "                raise(ValueError)\n",
        "        except ValueError:\n",
        "            print(\"ValueError: Cannot predict on an unfitted model. Run fit() on your train data first.\")\n",
        "\n",
        "        # Write prediction code here: we predict the majority class for everyone\n",
        "\n",
        "\n",
        "        return preds"
      ]
    },
    {
      "cell_type": "markdown",
      "metadata": {
        "id": "4vxhzC6HOu1y"
      },
      "source": [
        "Now test your majority classifier on the penguin dataset."
      ]
    },
    {
      "cell_type": "code",
      "execution_count": null,
      "metadata": {
        "id": "rDhwmBhCOu1y",
        "outputId": "ee6fd37a-9cfe-42c7-9e45-f72475731df1"
      },
      "outputs": [
        {
          "name": "stdout",
          "output_type": "stream",
          "text": [
            "ValueError: Cannot predict on an unfitted model. Run fit() on your train data first.\n"
          ]
        }
      ],
      "source": [
        "mc = MajorityClassifier()\n",
        "mc.fit(X_train, y_train)\n",
        "mc_preds = mc.predict(X_test)"
      ]
    },
    {
      "cell_type": "markdown",
      "metadata": {
        "id": "6nidhmBbOu1y"
      },
      "source": [
        "Let us continue with a slightly more complex classifier, the $k$-nearest neighbours one. **As a bonus**, you can recode it (filling in the code below), but you can also use `scikit-learn`'s implementation."
      ]
    },
    {
      "cell_type": "code",
      "execution_count": null,
      "metadata": {
        "id": "bG6_aVZvOu1z"
      },
      "outputs": [],
      "source": [
        "class kNNClassifier():\n",
        "    def __init__(self, k: int = 2):\n",
        "        self.k = k\n",
        "\n",
        "    def get_closest_points(self, x: pd.Series):\n",
        "        closest_points = []\n",
        "\n",
        "        return closest_points\n",
        "\n",
        "    def fit(self, X: pd.DataFrame, y):\n",
        "        # In the basic k-NN, there is no need for a training phase.\n",
        "        # You can ignore this function.\n",
        "        # In the more advanced k-NN, you can write the hashing code here.\n",
        "\n",
        "\n",
        "        return # This function does not need to return anything\n",
        "\n",
        "    def predict(self, X: pd.DataFrame):\n",
        "        # Write code that will find the k closest points from each data point.\n",
        "        # For this, you need first to compute the distances from every point to every other.\n",
        "        # Then, find the k closest points, and predict the majority class.\n",
        "\n",
        "        preds = []\n",
        "\n",
        "\n",
        "        return preds"
      ]
    },
    {
      "cell_type": "code",
      "execution_count": null,
      "metadata": {
        "id": "HRM2f7TSOu1z",
        "outputId": "622d6377-4bb1-4327-c3b8-82c968ca72d9"
      },
      "outputs": [
        {
          "name": "stderr",
          "output_type": "stream",
          "text": [
            "C:\\ProgramData\\Anaconda3\\lib\\site-packages\\sklearn\\neighbors\\_classification.py:211: FutureWarning: Unlike other reduction functions (e.g. `skew`, `kurtosis`), the default behavior of `mode` typically preserves the axis it acts along. In SciPy 1.11.0, this behavior will change: the default value of `keepdims` will become False, the `axis` over which the statistic is taken will be eliminated, and the value None will no longer be accepted. Set `keepdims` to True or False to avoid this warning.\n",
            "  mode, _ = stats.mode(_y[neigh_ind, k], axis=1)\n"
          ]
        }
      ],
      "source": [
        "# Use custom implementation\n",
        "# knn = kNNClassifier(k=3)\n",
        "\n",
        "# Use sklearn's implementation\n",
        "knn = KNeighborsClassifier(n_neighbors=3)\n",
        "\n",
        "knn.fit(X_train, y_train)\n",
        "knn_preds = knn.predict(X_test)"
      ]
    },
    {
      "cell_type": "markdown",
      "metadata": {
        "id": "kNafIyqfOu1z"
      },
      "source": [
        "### Building a decision tree"
      ]
    },
    {
      "cell_type": "code",
      "execution_count": null,
      "metadata": {
        "id": "8-4Od5qwOu1z"
      },
      "outputs": [],
      "source": [
        "from sklearn.tree import DecisionTreeClassifier, plot_tree\n",
        "\n",
        "dt = DecisionTreeClassifier()\n",
        "dt.fit(X_train, y_train)\n",
        "dt_preds = dt.predict(X_test)"
      ]
    },
    {
      "cell_type": "code",
      "execution_count": null,
      "metadata": {
        "id": "OvYC2I6POu1z",
        "outputId": "164d67ff-675e-468c-e4ec-0bdffeb7ba74"
      },
      "outputs": [
        {
          "data": {
            "text/plain": [
              "['species',\n",
              " 'island',\n",
              " 'culmen_length_mm',\n",
              " 'culmen_depth_mm',\n",
              " 'flipper_length_mm',\n",
              " 'body_mass_g']"
            ]
          },
          "execution_count": 80,
          "metadata": {},
          "output_type": "execute_result"
        }
      ],
      "source": [
        "list(X_train.columns)"
      ]
    },
    {
      "cell_type": "code",
      "execution_count": null,
      "metadata": {
        "id": "ZAs7opEvOu1z",
        "outputId": "3b2ab8cd-0e2d-41e8-9bcf-a3aca3190aa6"
      },
      "outputs": [
        {
          "data": {
            "image/png": "[encoded data removed]",
            "text/plain": [
              "<Figure size 432x288 with 1 Axes>"
            ]
          },
          "metadata": {},
          "output_type": "display_data"
        }
      ],
      "source": [
        "plt.Figure(figsize=(12,12))\n",
        "plot_tree(dt, feature_names=list(X_train.columns));\n",
        "plt.show()"
      ]
    },
    {
      "cell_type": "markdown",
      "metadata": {
        "id": "DJl0gYwFOu10"
      },
      "source": [
        "### Training a Random Forest"
      ]
    },
    {
      "cell_type": "code",
      "execution_count": null,
      "metadata": {
        "id": "PUwbJxeROu10"
      },
      "outputs": [],
      "source": [
        "# Simple random forest code, add some tuning : n trees, max depth (make forcefully shallow trees), min_samples?\n",
        "from sklearn.ensemble import RandomForestClassifier\n",
        "\n",
        "rf = RandomForestClassifier(n_estimators=50)\n",
        "rf.fit(X_train, y_train)\n",
        "rf_preds = rf.predict(X_test)"
      ]
    },
    {
      "cell_type": "markdown",
      "metadata": {
        "id": "qw44Z3X0Ou10"
      },
      "source": [
        "### Training Support Vector Machines"
      ]
    },
    {
      "cell_type": "code",
      "execution_count": null,
      "metadata": {
        "id": "R1PckAzxOu10"
      },
      "outputs": [],
      "source": [
        "# Add some tuning considerations\n",
        "\n",
        "from sklearn.svm import SVC\n",
        "\n",
        "svm = SVC(kernel=\"linear\")\n",
        "svm.fit(X_train, y_train)\n",
        "svm_preds = svm.predict(X_test)"
      ]
    },
    {
      "cell_type": "markdown",
      "metadata": {
        "id": "FdyyeP_9Ou10"
      },
      "source": [
        "## Evaluation\n",
        "\n",
        "Now it is time to focus on the evaluation of our models. Let us use this as an opportunity to compare the clustering and classification approaches.\n",
        "\n",
        "   - How can we evaluate the quality of the classification model? Think about the ranking agreement metrics we saw in the first lecture\n",
        "   - Can we look at the confusion matrix outputted by our classification algorithm?\n",
        "   - What is the impact of normalization/standardization?\n",
        "   - How can we evaluate the quality of the classification? You can go read again about the F1-score and ROC curves"
      ]
    },
    {
      "cell_type": "code",
      "execution_count": null,
      "metadata": {
        "id": "fRbs6Ja7Ou10"
      },
      "outputs": [],
      "source": [
        "from sklearn.metrics import f1_score, roc_curve"
      ]
    },
    {
      "cell_type": "code",
      "execution_count": null,
      "metadata": {
        "id": "9O4E231kOu10"
      },
      "outputs": [],
      "source": [
        "f1_score(np.array(y_test), np.array(mc_preds), average=\"micro\")"
      ]
    },
    {
      "cell_type": "markdown",
      "metadata": {
        "id": "WIAuYVrSOu10"
      },
      "source": [
        "Let us evaluate our `kNN` model. Go back to the model, and in particular play with the number of trees (parameter `n_neighbors`) -- see how the classification changes with different values of $k$, and how the computation time is impacted. To get a high-level view, you could, for example, plot the $F_1$-score as a function of each parameter. Which parameters make the most sense? How do they impact the classification performance?"
      ]
    },
    {
      "cell_type": "code",
      "execution_count": null,
      "metadata": {
        "id": "_SHB3P0lOu10",
        "outputId": "c44090e1-6dfb-4b64-f389-c2e2863fd4a7"
      },
      "outputs": [
        {
          "data": {
            "text/plain": [
              "0.731578947368421"
            ]
          },
          "execution_count": 84,
          "metadata": {},
          "output_type": "execute_result"
        }
      ],
      "source": [
        "f1_score(np.array(y_test), np.array(knn_preds), average=\"micro\")"
      ]
    },
    {
      "cell_type": "markdown",
      "metadata": {
        "id": "EV_UZdtYOu11"
      },
      "source": [
        "Let us evaluate our `DecisionTree` model. Go back to the model, and in particular play with the maximum depth of the tree (parameter `max_depth`), and the number of samples per leaf node (parameter `min_samples_split`). To get a high-level view, you could, for example, plot the $F_1$-score as a function of each parameter. You could also look at different confusion matrices (see below), to get an idea of how some models underfit or overfit."
      ]
    },
    {
      "cell_type": "code",
      "execution_count": null,
      "metadata": {
        "id": "oyqoBWyKOu11",
        "outputId": "a6c17d13-15d1-43f2-987a-51d8921155fd"
      },
      "outputs": [
        {
          "data": {
            "text/plain": [
              "0.8210526315789475"
            ]
          },
          "execution_count": 83,
          "metadata": {},
          "output_type": "execute_result"
        }
      ],
      "source": [
        "f1_score(np.array(y_test), np.array(dt_preds), average=\"micro\")"
      ]
    },
    {
      "cell_type": "markdown",
      "metadata": {
        "id": "_MJhwZxCOu11"
      },
      "source": [
        "Let us evaluate our `RandomForest` model. Go back to the model, and in particular play with the number of trees (parameter `n_estimators`), the maximum depth of the trees (parameter `max_depth`), and the number of samples per leaf node (parameter `min_samples_split`). To get a high-level view, you could, for example, plot the $F_1$-score as a function of each parameter. You could also look at different confusion matrices (see below), to get an idea of how some models underfit or overfit."
      ]
    },
    {
      "cell_type": "code",
      "execution_count": null,
      "metadata": {
        "id": "u4tre7iLOu11",
        "outputId": "223d4112-30c0-4034-c94c-d6781b745d93"
      },
      "outputs": [
        {
          "data": {
            "text/plain": [
              "0.8775510204081631"
            ]
          },
          "execution_count": 139,
          "metadata": {},
          "output_type": "execute_result"
        }
      ],
      "source": [
        "f1_score(np.array(y_test), np.array(rf_preds), average=\"micro\")"
      ]
    },
    {
      "cell_type": "markdown",
      "metadata": {
        "id": "PqRJQcmyOu11"
      },
      "source": [
        "Let us evaluate our `SVM` model. Go back to the model, and in particular play with the regularization cost (parameter `C`), and the kernel to be used (parameter `kernel`, which can take values `'linear', 'rbf', 'polynomial'`), and the degree of the polynomial kernel (parameter `degree`). To get a high-level view, you could, for example, plot the $F_1$-score as a function of each parameter. Which parameters make the most sense? How do they impact the classification performance?"
      ]
    },
    {
      "cell_type": "code",
      "execution_count": null,
      "metadata": {
        "id": "9S5kT8FHOu11",
        "outputId": "cfaeee86-ea30-4d1f-9225-eff2e815f553"
      },
      "outputs": [
        {
          "data": {
            "text/plain": [
              "0.6938775510204082"
            ]
          },
          "execution_count": 140,
          "metadata": {},
          "output_type": "execute_result"
        }
      ],
      "source": [
        "f1_score(np.array(y_test), np.array(svm_preds), average=\"micro\")"
      ]
    },
    {
      "cell_type": "markdown",
      "metadata": {
        "id": "tRFLa1xWOu11"
      },
      "source": [
        "Using the code below, plot the ROC curves for your models. Be careful, the ROC curve **only makes sense for binary classification**. You can predict the penguin's sex, which in this dataset is a binary class. Based on the ROC curve, how good is the model?"
      ]
    },
    {
      "cell_type": "code",
      "execution_count": null,
      "metadata": {
        "tags": [],
        "id": "AhZa8auVOu11",
        "outputId": "3c60ae1f-b5a2-4a63-f201-9689ccec6e15"
      },
      "outputs": [
        {
          "data": {
            "image/png": "[encoded data removed]",
            "text/plain": [
              "<Figure size 432x288 with 1 Axes>"
            ]
          },
          "metadata": {
            "needs_background": "light"
          },
          "output_type": "display_data"
        }
      ],
      "source": [
        "fpr, tpr, _ = roc_curve(y_test, rf_preds, pos_label=1)\n",
        "plt.plot(tpr, fpr);"
      ]
    },
    {
      "cell_type": "markdown",
      "metadata": {
        "id": "UsYauQt2Ou12"
      },
      "source": [
        "Using the code below, plot the confusion matrix for your models."
      ]
    },
    {
      "cell_type": "code",
      "execution_count": null,
      "metadata": {
        "id": "4bweZXPKOu12",
        "outputId": "06a750f7-208b-4a08-9303-0be9291e5f2b"
      },
      "outputs": [
        {
          "data": {
            "image/png": "[encoded data removed]",
            "text/plain": [
              "<Figure size 432x288 with 2 Axes>"
            ]
          },
          "metadata": {},
          "output_type": "display_data"
        }
      ],
      "source": [
        "def get_confusion_matrix(y_test, y_pred):\n",
        "    # Write code that computes the confusion matrix\n",
        "    # from the y_test and y_pred arrays.\n",
        "    cm = np.random.randint(100, size=(6,6)) # Just some random numbers to get an output -- you can delete this\n",
        "\n",
        "    return cm\n",
        "\n",
        "\n",
        "df_cm = pd.DataFrame(get_confusion_matrix(y_test, rf_preds), range(len(cm)), range(len(cm)))\n",
        "sn.heatmap(df_cm, annot=True)\n",
        "\n",
        "plt.show()"
      ]
    },
    {
      "cell_type": "markdown",
      "metadata": {
        "id": "XBb4MSkZOu12"
      },
      "source": [
        "For each model, there are many other parameters. We focused on the ones that usually have the most impact on the prediction quality, but feel free to play around with the other ones if they are relevant to your data or use-case."
      ]
    },
    {
      "cell_type": "markdown",
      "metadata": {
        "tags": [],
        "id": "ExOhnAezOu12"
      },
      "source": [
        "## A non-toy dataset: the \"vital\" pages of Wikipedia\n",
        "\n",
        "Now that we have had the opportunity to test code and play around with a relatively simple dataset, let us consider a real-world one. The **WikiVitals (en)** dataset comprises of the 10,000 most important Wikipedia articles (articles are selected by users). We have extracted this dataset for you; it is stored in graph format for compacity, with sparse matrices storing the hyperlinks between articles as well as the words appearing in the summary of each article. Since we have not studied graphs together, we provide some helper functions to get an article's title, the words associated to each article, and its label.\n",
        "\n",
        "The dataset should be relatively clean already (though, you are welcome to check :) ), but there is work to do to extract relevant features from the words of each article (for example, tf-idf scores through scikit-learn's [TfIdfVectorizer]()).\n",
        "\n",
        "Some possible tasks:\n",
        "\n",
        "* Predict the category of an article (easy)\n",
        "* Predict the hierarchy of categories of an article (difficult): you might want to use a custom scoring function here, that will take into account the hierarchy while learning. Intuitively, it is not the same to confuse a cat with a tiger versus a cat with a banana."
      ]
    },
    {
      "cell_type": "code",
      "execution_count": null,
      "metadata": {
        "id": "SHqcN80OOu12"
      },
      "outputs": [],
      "source": [
        "!pip install scikit-network"
      ]
    },
    {
      "cell_type": "code",
      "execution_count": null,
      "metadata": {
        "id": "tYKu6MeYOu12",
        "outputId": "933cf3a2-25db-4b36-c9d5-9afe12f82628"
      },
      "outputs": [
        {
          "name": "stdout",
          "output_type": "stream",
          "text": [
            "Parsing files...\n",
            "Done.\n"
          ]
        }
      ],
      "source": [
        "import sknetwork as skn\n",
        "\n",
        "graph = skn.data.load_netset(\"wikivitals\")"
      ]
    },
    {
      "cell_type": "code",
      "execution_count": null,
      "metadata": {
        "id": "9xdkTwEOOu12",
        "outputId": "513fe702-ff77-4184-a549-d4561a58fbcd"
      },
      "outputs": [
        {
          "data": {
            "text/plain": [
              "{'adjacency': <10011x10011 sparse matrix of type '<class 'numpy.bool_'>'\n",
              " \twith 824999 stored elements in Compressed Sparse Row format>,\n",
              " 'biadjacency': <10011x37845 sparse matrix of type '<class 'numpy.int64'>'\n",
              " \twith 1363301 stored elements in Compressed Sparse Row format>,\n",
              " 'labels': array([5, 5, 2, ..., 3, 6, 5], dtype=int64),\n",
              " 'labels_hierarchy': array([ 930,  930,  534, ...,  637, 1170,  930], dtype=int64),\n",
              " 'meta': {'name': 'Wikivitals (en)',\n",
              "  'description': 'Vital articles of Wikipedia in English (level 4) with links between them and words used in summaries (tokenization by Spacy, model \"en_core_web_lg\").',\n",
              "  'source': 'https://en.wikipedia.org/wiki/Wikipedia:Vital_articles/Level/4',\n",
              "  'date': 'June 2021'},\n",
              " 'names': array(['0', '1', '100 metres', ..., 'Łódź', 'Śāriputra', '−1'],\n",
              "       dtype='<U62'),\n",
              " 'names_col': array(['Alexis', 'Cairo', 'subordinate', ..., 'parody', 'martyrdom',\n",
              "        'Wyler'], dtype='<U26'),\n",
              " 'names_labels': array(['Arts', 'Biological and health sciences', 'Everyday life',\n",
              "        'Geography', 'History', 'Mathematics', 'People',\n",
              "        'Philosophy and religion', 'Physical sciences',\n",
              "        'Society and social sciences', 'Technology'], dtype='<U30'),\n",
              " 'names_labels_hierarchy': array(['Arts|||Architecture|||General',\n",
              "        'Arts|||Architecture|||Specific structures',\n",
              "        'Arts|||Architecture|||Specific structures|||Seven Wonders of the Ancient World',\n",
              "        ..., 'Technology|||Transportation|||Road transport|||Driving',\n",
              "        'Technology|||Transportation|||Road transport|||Road',\n",
              "        'Technology|||Transportation|||Road transport|||Road|||Highway'],\n",
              "       dtype='<U142')}"
            ]
          },
          "execution_count": 63,
          "metadata": {},
          "output_type": "execute_result"
        }
      ],
      "source": [
        "graph"
      ]
    },
    {
      "cell_type": "code",
      "execution_count": null,
      "metadata": {
        "id": "ADAG0dzaOu12",
        "outputId": "ae8c02d1-9b5b-4310-a82a-59307f3cc4a6"
      },
      "outputs": [
        {
          "data": {
            "text/plain": [
              "array(['0', '1', '100 metres', ..., 'Łódź', 'Śāriputra', '−1'],\n",
              "      dtype='<U62')"
            ]
          },
          "execution_count": 64,
          "metadata": {},
          "output_type": "execute_result"
        }
      ],
      "source": [
        "# All articles\n",
        "graph.names"
      ]
    },
    {
      "cell_type": "code",
      "execution_count": null,
      "metadata": {
        "id": "uEIM2I4eOu13"
      },
      "outputs": [],
      "source": [
        "# All words of article i\n",
        "def get_words(graph, article_id):\n",
        "    i = article_id\n",
        "    indptr = graph.biadjacency.indptr\n",
        "    words_indices = graph.biadjacency.indices[ indptr[i] : indptr[i+1] ]\n",
        "    return [ graph.names_col[w] for w in words_indices ]\n",
        "\n",
        "# Label (i.e. Wikipedia category) of article i\n",
        "def get_label(graph, article_id):\n",
        "    label_id = graph.labels[article_id]\n",
        "\n",
        "    return label_id, graph.names_labels[label_id]\n",
        "\n",
        "words = get_words(graph, 0)\n",
        "label_id, label = get_label(graph, 0)"
      ]
    },
    {
      "cell_type": "code",
      "execution_count": null,
      "metadata": {
        "id": "YwG1vp-zOu13",
        "outputId": "40db1525-7de0-44ae-8006-c69a70edd897"
      },
      "outputs": [
        {
          "data": {
            "text/plain": [
              "(5,\n",
              " 'Mathematics',\n",
              " ['from',\n",
              "  'historically',\n",
              "  'identity',\n",
              "  'system',\n",
              "  'zero',\n",
              "  'for',\n",
              "  'be',\n",
              "  'slang',\n",
              "  'naught',\n",
              "  'integer',\n",
              "  'or',\n",
              "  'the',\n",
              "  'a',\n",
              "  'many',\n",
              "  'fulfill',\n",
              "  'in',\n",
              "  'numerical',\n",
              "  'to',\n",
              "  'algebraic',\n",
              "  'use',\n",
              "  'least',\n",
              "  'well',\n",
              "  'role',\n",
              "  'context',\n",
              "  'and',\n",
              "  'that',\n",
              "  'where',\n",
              "  'central',\n",
              "  'place',\n",
              "  'adjacent',\n",
              "  'informal',\n",
              "  'digit',\n",
              "  'term',\n",
              "  'US',\n",
              "  'UK',\n",
              "  'also',\n",
              "  'of',\n",
              "  'as',\n",
              "  'o',\n",
              "  'name',\n",
              "  'represent',\n",
              "  'English',\n",
              "  'zip',\n",
              "  'placeholder',\n",
              "  'one',\n",
              "  'letter',\n",
              "  'value',\n",
              "  'mathematic',\n",
              "  'additive',\n",
              "  'structure',\n",
              "  'cipher',\n",
              "  'have',\n",
              "  'include',\n",
              "  'it',\n",
              "  'ought',\n",
              "  'at',\n",
              "  'real',\n",
              "  'number',\n",
              "  'numeral',\n",
              "  'distinguish',\n",
              "  'other'])"
            ]
          },
          "execution_count": 70,
          "metadata": {},
          "output_type": "execute_result"
        }
      ],
      "source": [
        "label_id, label, words"
      ]
    },
    {
      "cell_type": "code",
      "execution_count": null,
      "metadata": {
        "id": "sW7KTLyQOu13"
      },
      "outputs": [],
      "source": []
    }
  ],
  "metadata": {
    "kernelspec": {
      "display_name": "Python 3 (ipykernel)",
      "language": "python",
      "name": "python3"
    },
    "language_info": {
      "codemirror_mode": {
        "name": "ipython",
        "version": 3
      },
      "file_extension": ".py",
      "mimetype": "text/x-python",
      "name": "python",
      "nbconvert_exporter": "python",
      "pygments_lexer": "ipython3",
      "version": "3.9.7"
    },
    "colab": {
      "provenance": [],
      "collapsed_sections": [
        "kNafIyqfOu1z",
        "DJl0gYwFOu10",
        "qw44Z3X0Ou10"
      ],
      "include_colab_link": true
    }
  },
  "nbformat": 4,
  "nbformat_minor": 0
}